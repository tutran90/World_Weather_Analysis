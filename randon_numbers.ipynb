{
 "cells": [
  {
   "cell_type": "code",
   "execution_count": 1,
   "metadata": {},
   "outputs": [
    {
     "data": {
      "text/plain": [
       "[16.139677118152196,\n",
       " -1.7832316829198709,\n",
       " 62.12041664376628,\n",
       " 26.154668060363722,\n",
       " -38.69261797006272,\n",
       " 53.75171597537001,\n",
       " -83.80553842623198,\n",
       " -4.085387834766139,\n",
       " 67.87834332669689,\n",
       " -65.83045060586004]"
      ]
     },
     "execution_count": 1,
     "metadata": {},
     "output_type": "execute_result"
    }
   ],
   "source": [
    "#Section 6.1.4 Generating Random numbers (lat & long)\n",
    "# Import the random module.\n",
    "import random\n",
    "\n",
    "random.random()\n",
    "#random.random() returns a random float between 0 and 1.0\n",
    "\n",
    "random.randint(-90,90)\n",
    "#random.randint(-90, 90) returns a number b/t those 2 numbers. \n",
    "# Only returns 1 interger\n",
    "\n",
    "#random latitudes\n",
    "x = 1\n",
    "latitudes = []\n",
    "while x < 11:\n",
    "    random_lat = random.randint(-90, 89) + random.random()\n",
    "    latitudes.append(random_lat)\n",
    "    x += 1\n",
    "\n",
    "latitudes"
   ]
  },
  {
   "cell_type": "code",
   "execution_count": 16,
   "metadata": {},
   "outputs": [
    {
     "data": {
      "text/plain": [
       "array([-89.31861005,  15.96077135, -89.02400261, ...,  34.97638337,\n",
       "        51.11484137, -43.78416029])"
      ]
     },
     "execution_count": 16,
     "metadata": {},
     "output_type": "execute_result"
    }
   ],
   "source": [
    "#Section 6.1.4 Chain Numpy with Random\n",
    "# Import the NumPy module.\n",
    "import numpy as np\n",
    "\n",
    "#np.random.uniform(-90.000, 90.000, size=50)\n",
    "#retunrs a floating-point decimal number between -90 ad 90\n",
    "#adding a siz= parameter will give us a list of 50 numbers between -90 and 90\n",
    "\n",
    "#np.random.uniform(-90.000, 90.000, size=1500)"
   ]
  },
  {
   "cell_type": "code",
   "execution_count": 17,
   "metadata": {},
   "outputs": [],
   "source": [
    "# Import timeit.\n",
    "import timeit"
   ]
  },
  {
   "cell_type": "code",
   "execution_count": 19,
   "metadata": {},
   "outputs": [
    {
     "name": "stdout",
     "output_type": "stream",
     "text": [
      "18.8 µs ± 330 ns per loop (mean ± std. dev. of 7 runs, 10000 loops each)\n"
     ]
    }
   ],
   "source": [
    "#using timeit to see how long it takes to run the code \n",
    "%timeit np.random.uniform(-90.000, 90.000, size=1500)"
   ]
  },
  {
   "cell_type": "code",
   "execution_count": 21,
   "metadata": {},
   "outputs": [
    {
     "name": "stdout",
     "output_type": "stream",
     "text": [
      "6.1 ms ± 33.8 µs per loop (mean ± std. dev. of 7 runs, 100 loops each)\n"
     ]
    },
    {
     "data": {
      "text/plain": [
       "<function __main__.latitudes(size)>"
      ]
     },
     "execution_count": 21,
     "metadata": {},
     "output_type": "execute_result"
    }
   ],
   "source": [
    "#Running a while loop:\n",
    "def latitudes(size): #defining latitudes to the size (1500)\n",
    "    latitudes = [] #setting up a blank list[]\n",
    "    x = 0 # x is set to 0 \n",
    "    while x < (size): #while x < (size); size = 1500 \n",
    "        random_lat = random.randint(-90, 90) + random.random() #function for random_lat = randomint between -90 and 90 +\n",
    "        #random.random()\n",
    "        latitudes.append(random_lat) #add the value of random_lat to the latitudes []\n",
    "        x += 1 #shorten version for x = x +1 adding another value to the variable so adding 1 more to the x until it <1500\n",
    "    return latitudes\n",
    "# Call the function with 1500.\n",
    "%timeit latitudes(1500) # this method is faster than the above\n"
   ]
  },
  {
   "cell_type": "code",
   "execution_count": null,
   "metadata": {},
   "outputs": [],
   "source": []
  }
 ],
 "metadata": {
  "interpreter": {
   "hash": "7403c45aabc9b3fcc78479e20fade5c5896fb0ebf2a4a109d7e1981c5d821672"
  },
  "kernelspec": {
   "display_name": "Python 3.7.10 64-bit ('PythonData': conda)",
   "name": "python3"
  },
  "language_info": {
   "codemirror_mode": {
    "name": "ipython",
    "version": 3
   },
   "file_extension": ".py",
   "mimetype": "text/x-python",
   "name": "python",
   "nbconvert_exporter": "python",
   "pygments_lexer": "ipython3",
   "version": "3.7.10"
  },
  "orig_nbformat": 4
 },
 "nbformat": 4,
 "nbformat_minor": 2
}
